{
  "nbformat": 4,
  "nbformat_minor": 0,
  "metadata": {
    "colab": {
      "provenance": []
    },
    "kernelspec": {
      "name": "python3",
      "display_name": "Python 3"
    },
    "language_info": {
      "name": "python"
    }
  },
  "cells": [
    {
      "cell_type": "code",
      "execution_count": 1,
      "metadata": {
        "id": "Km3QcWFpwFb8"
      },
      "outputs": [],
      "source": [
        "import pandas as pd\n",
        "import numpy as np\n",
        "from datetime import datetime, timedelta\n",
        "\n",
        "stocks = {\n",
        "    'AAPL': pd.read_csv('aapl.us.csv'),\n",
        "    'AMZN': pd.read_csv('amzn.us.csv'),\n",
        "    'GOOGL': pd.read_csv('googl.us.csv'),\n",
        "    'MSFT': pd.read_csv('msft.us.csv'),\n",
        "    'TSLA': pd.read_csv('tsla.us.csv')\n",
        "}"
      ]
    },
    {
      "cell_type": "code",
      "source": [
        "for ticker, df in stocks.items():\n",
        "    print(ticker)\n",
        "    print(df.shape)\n",
        "    print(list(df.columns))\n",
        "    print(f\"{df['Date'].min()}  {df['Date'].max()}\")\n",
        "    print(df.isnull().sum().sum())"
      ],
      "metadata": {
        "colab": {
          "base_uri": "https://localhost:8080/"
        },
        "id": "Llxj_Ppvz8DC",
        "outputId": "9dd6bfc6-d717-48d0-e105-e81fc0f9db24"
      },
      "execution_count": 2,
      "outputs": [
        {
          "output_type": "stream",
          "name": "stdout",
          "text": [
            "AAPL\n",
            "(8364, 7)\n",
            "['Date', 'Open', 'High', 'Low', 'Close', 'Volume', 'OpenInt']\n",
            "1984-09-07 to 2017-11-10\n",
            "0\n",
            "AMZN\n",
            "(5153, 7)\n",
            "['Date', 'Open', 'High', 'Low', 'Close', 'Volume', 'OpenInt']\n",
            "1997-05-16 to 2017-11-10\n",
            "0\n",
            "GOOGL\n",
            "(3333, 7)\n",
            "['Date', 'Open', 'High', 'Low', 'Close', 'Volume', 'OpenInt']\n",
            "2004-08-19 to 2017-11-10\n",
            "0\n",
            "MSFT\n",
            "(7983, 7)\n",
            "['Date', 'Open', 'High', 'Low', 'Close', 'Volume', 'OpenInt']\n",
            "1986-03-13 to 2017-11-10\n",
            "0\n",
            "TSLA\n",
            "(1858, 7)\n",
            "['Date', 'Open', 'High', 'Low', 'Close', 'Volume', 'OpenInt']\n",
            "2010-06-28 to 2017-11-10\n",
            "0\n"
          ]
        }
      ]
    },
    {
      "cell_type": "code",
      "source": [
        "processed_stocks = {}\n",
        "\n",
        "for ticker, df in stocks.items():\n",
        "    stock_df = df.copy()\n",
        "    stock_df['Date'] = pd.to_datetime(stock_df['Date'])\n",
        "    stock_df = stock_df.sort_values('Date').reset_index(drop=True)\n",
        "    stock_df = stock_df.dropna(subset=['Close'])\n",
        "    stock_df['Ticker'] = ticker\n",
        "    stock_df['Daily_Return'] = stock_df['Close'].pct_change()\n",
        "    stock_df['MA_7'] = stock_df['Close'].rolling(window=7).mean()\n",
        "    stock_df['MA_30'] = stock_df['Close'].rolling(window=30).mean()\n",
        "    stock_df['Volatility_30'] = stock_df['Daily_Return'].rolling(window=30).std()\n",
        "    processed_stocks[ticker] = stock_df\n",
        "\n",
        "combined_df = pd.concat(processed_stocks.values(), ignore_index=True)\n",
        "\n",
        "print(combined_df.head())"
      ],
      "metadata": {
        "colab": {
          "base_uri": "https://localhost:8080/"
        },
        "id": "unW5TngY0Ixk",
        "outputId": "80736914-eaef-441b-daca-ccb9999f45a5"
      },
      "execution_count": 5,
      "outputs": [
        {
          "output_type": "stream",
          "name": "stdout",
          "text": [
            "        Date     Open     High      Low    Close    Volume  OpenInt Ticker  \\\n",
            "0 1984-09-07  0.42388  0.42902  0.41874  0.42388  23220030        0   AAPL   \n",
            "1 1984-09-10  0.42388  0.42516  0.41366  0.42134  18022532        0   AAPL   \n",
            "2 1984-09-11  0.42516  0.43668  0.42516  0.42902  42498199        0   AAPL   \n",
            "3 1984-09-12  0.42902  0.43157  0.41618  0.41618  37125801        0   AAPL   \n",
            "4 1984-09-13  0.43927  0.44052  0.43927  0.43927  57822062        0   AAPL   \n",
            "\n",
            "   Daily_Return  MA_7  MA_30  Volatility_30  \n",
            "0           NaN   NaN    NaN            NaN  \n",
            "1     -0.005992   NaN    NaN            NaN  \n",
            "2      0.018228   NaN    NaN            NaN  \n",
            "3     -0.029929   NaN    NaN            NaN  \n",
            "4      0.055481   NaN    NaN            NaN  \n"
          ]
        }
      ]
    },
    {
      "cell_type": "code",
      "source": [
        "ten_years_ago = datetime.now() - timedelta(days=365*10)\n",
        "recent_data = combined_df[combined_df['Date'] >= ten_years_ago].copy()"
      ],
      "metadata": {
        "id": "R9qBpx_z0d2g"
      },
      "execution_count": 7,
      "outputs": []
    },
    {
      "cell_type": "code",
      "source": [
        "multi_df = recent_data.set_index(['Ticker', 'Date'])"
      ],
      "metadata": {
        "id": "lmJiXZ-d0h7j"
      },
      "execution_count": 8,
      "outputs": []
    },
    {
      "cell_type": "code",
      "source": [
        "returns_summary = recent_data.groupby('Ticker')['Daily_Return'].describe()\n",
        "print(returns_summary)"
      ],
      "metadata": {
        "colab": {
          "base_uri": "https://localhost:8080/"
        },
        "id": "InTladKw0izO",
        "outputId": "e12b7776-d439-4a95-9422-41f7b170ad58"
      },
      "execution_count": 9,
      "outputs": [
        {
          "output_type": "stream",
          "name": "stdout",
          "text": [
            "        count      mean       std       min       25%       50%       75%  \\\n",
            "Ticker                                                                      \n",
            "AAPL    615.0  0.000677  0.014421 -0.065703 -0.005499  0.000553  0.007881   \n",
            "AMZN    615.0  0.001726  0.017345 -0.078288 -0.005818  0.001168  0.009679   \n",
            "GOOGL   615.0  0.001145  0.014327 -0.055521 -0.004901  0.001251  0.007355   \n",
            "MSFT    615.0  0.001155  0.013431 -0.071733 -0.004702  0.000695  0.007110   \n",
            "TSLA    615.0  0.000617  0.024413 -0.104503 -0.011918  0.000871  0.014393   \n",
            "\n",
            "             max  \n",
            "Ticker            \n",
            "AAPL    0.064964  \n",
            "AMZN    0.132164  \n",
            "GOOGL   0.162584  \n",
            "MSFT    0.100771  \n",
            "TSLA    0.111735  \n"
          ]
        }
      ]
    },
    {
      "cell_type": "code",
      "source": [
        "\n",
        "print(recent_data.groupby('Ticker')['Volatility_30'].describe())\n"
      ],
      "metadata": {
        "colab": {
          "base_uri": "https://localhost:8080/"
        },
        "id": "naCnXZ1f0tmm",
        "outputId": "7973e131-a53b-48c0-94c0-40badb80cef2"
      },
      "execution_count": 10,
      "outputs": [
        {
          "output_type": "stream",
          "name": "stdout",
          "text": [
            "        count      mean       std       min       25%       50%       75%  \\\n",
            "Ticker                                                                      \n",
            "AAPL    615.0  0.013605  0.004582  0.005085  0.010807  0.012721  0.015768   \n",
            "AMZN    615.0  0.015443  0.006805  0.005160  0.010540  0.012557  0.019950   \n",
            "GOOGL   615.0  0.012956  0.006134  0.004231  0.009032  0.011436  0.014354   \n",
            "MSFT    615.0  0.012505  0.004879  0.004159  0.008628  0.011621  0.015880   \n",
            "TSLA    615.0  0.023433  0.005798  0.011555  0.019719  0.022723  0.026530   \n",
            "\n",
            "             max  \n",
            "Ticker            \n",
            "AAPL    0.027176  \n",
            "AMZN    0.035086  \n",
            "GOOGL   0.038067  \n",
            "MSFT    0.023590  \n",
            "TSLA    0.040158  \n"
          ]
        }
      ]
    },
    {
      "cell_type": "markdown",
      "source": [
        "ACCORDING TO VOLATILTY- TSLA < AMZN < AAPL < GOOGL < MSFT\n",
        "\n",
        "ACCORDING TO DAILY RETURN MEAN  - AMZN> MSFT> GOOGL > AAPL > TSLA\n",
        "\n"
      ],
      "metadata": {
        "id": "KNWZpf-807Bi"
      }
    },
    {
      "cell_type": "code",
      "source": [
        "print(recent_data.groupby('Ticker')['Close'].describe())"
      ],
      "metadata": {
        "colab": {
          "base_uri": "https://localhost:8080/"
        },
        "id": "WqKEkR2U1aDt",
        "outputId": "c1d15b59-d641-4366-cdf3-45ab2fbb242d"
      },
      "execution_count": 11,
      "outputs": [
        {
          "output_type": "stream",
          "name": "stdout",
          "text": [
            "        count        mean         std      min      25%      50%      75%  \\\n",
            "Ticker                                                                      \n",
            "AAPL    615.0  120.039850   22.057446   87.979  104.525  112.910  140.415   \n",
            "AMZN    615.0  749.568545  174.121633  423.500  598.595  759.220  893.195   \n",
            "GOOGL   615.0  799.128436  114.129939  540.040  729.085  788.480  856.865   \n",
            "MSFT    615.0   57.516237   10.645086   38.462   49.860   55.903   64.757   \n",
            "TSLA    615.0  254.174441   55.215275  143.670  213.745  238.630  296.150   \n",
            "\n",
            "            max  \n",
            "Ticker           \n",
            "AAPL     175.61  \n",
            "AMZN    1132.88  \n",
            "GOOGL   1058.29  \n",
            "MSFT      84.56  \n",
            "TSLA     385.00  \n"
          ]
        }
      ]
    },
    {
      "cell_type": "code",
      "source": [
        "recent_data.to_csv('processed_stocks_combined.csv', index=False)\n",
        "multi_df.to_csv('processed_stocks_multiindex.csv')"
      ],
      "metadata": {
        "id": "tgk_vDS_1i76"
      },
      "execution_count": 13,
      "outputs": []
    },
    {
      "cell_type": "code",
      "source": [
        "for ticker in ['AAPL', 'AMZN', 'GOOGL', 'MSFT', 'TSLA']:\n",
        "    ticker_data = recent_data[recent_data['Ticker'] == ticker]\n",
        "    ticker_data.to_csv(f'processed_{ticker.lower()}.csv', index=False)\n",
        "\n",
        "print(len(recent_data))\n",
        "print(recent_data['Ticker'].nunique())\n",
        "print(recent_data['Ticker'].value_counts())\n",
        "\n",
        "print(recent_data.head(10))\n",
        "print(list(recent_data.columns))\n",
        "print(multi_df.head())"
      ],
      "metadata": {
        "colab": {
          "base_uri": "https://localhost:8080/"
        },
        "id": "QN2VFGnS1vMv",
        "outputId": "2b622648-20ac-4c47-9941-55a795a1df4e"
      },
      "execution_count": 14,
      "outputs": [
        {
          "output_type": "stream",
          "name": "stdout",
          "text": [
            "3075\n",
            "5\n",
            "Ticker\n",
            "AAPL     615\n",
            "AMZN     615\n",
            "GOOGL    615\n",
            "MSFT     615\n",
            "TSLA     615\n",
            "Name: count, dtype: int64\n",
            "           Date    Open    High     Low   Close    Volume  OpenInt Ticker  \\\n",
            "7749 2015-06-08  123.02  123.32  121.03  121.97  55195489        0   AAPL   \n",
            "7750 2015-06-09  120.91  122.22  119.88  121.61  58732198        0   AAPL   \n",
            "7751 2015-06-10  122.09  123.45  122.00  123.00  40948345        0   AAPL   \n",
            "7752 2015-06-11  123.29  124.22  122.60  122.71  37084550        0   AAPL   \n",
            "7753 2015-06-12  122.32  122.46  121.31  121.37  38579953        0   AAPL   \n",
            "7754 2015-06-15  120.34  121.43  119.97  121.12  46094023        0   AAPL   \n",
            "7755 2015-06-16  121.22  122.00  120.59  121.78  33001274        0   AAPL   \n",
            "7756 2015-06-17  121.89  122.03  120.95  121.49  34493316        0   AAPL   \n",
            "7757 2015-06-18  121.43  122.44  121.42  122.03  37101639        0   AAPL   \n",
            "7758 2015-06-19  121.92  121.98  120.62  120.81  57335314        0   AAPL   \n",
            "\n",
            "      Daily_Return        MA_7       MA_30  Volatility_30  \n",
            "7749     -0.006516  123.607143  122.926667       0.013685  \n",
            "7750     -0.002952  123.221429  122.778333       0.013236  \n",
            "7751      0.011430  122.997143  122.743000       0.013124  \n",
            "7752     -0.002358  122.812857  122.758667       0.012846  \n",
            "7753     -0.010920  122.414286  122.839667       0.011978  \n",
            "7754     -0.002060  122.078571  122.792333       0.010606  \n",
            "7755      0.005449  121.937143  122.775000       0.010653  \n",
            "7756     -0.002381  121.868571  122.839000       0.009806  \n",
            "7757      0.004445  121.928571  122.946667       0.009739  \n",
            "7758     -0.009998  121.615714  122.988667       0.009882  \n",
            "['Date', 'Open', 'High', 'Low', 'Close', 'Volume', 'OpenInt', 'Ticker', 'Daily_Return', 'MA_7', 'MA_30', 'Volatility_30']\n",
            "                     Open    High     Low   Close    Volume  OpenInt  \\\n",
            "Ticker Date                                                            \n",
            "AAPL   2015-06-08  123.02  123.32  121.03  121.97  55195489        0   \n",
            "       2015-06-09  120.91  122.22  119.88  121.61  58732198        0   \n",
            "       2015-06-10  122.09  123.45  122.00  123.00  40948345        0   \n",
            "       2015-06-11  123.29  124.22  122.60  122.71  37084550        0   \n",
            "       2015-06-12  122.32  122.46  121.31  121.37  38579953        0   \n",
            "\n",
            "                   Daily_Return        MA_7       MA_30  Volatility_30  \n",
            "Ticker Date                                                             \n",
            "AAPL   2015-06-08     -0.006516  123.607143  122.926667       0.013685  \n",
            "       2015-06-09     -0.002952  123.221429  122.778333       0.013236  \n",
            "       2015-06-10      0.011430  122.997143  122.743000       0.013124  \n",
            "       2015-06-11     -0.002358  122.812857  122.758667       0.012846  \n",
            "       2015-06-12     -0.010920  122.414286  122.839667       0.011978  \n"
          ]
        }
      ]
    },
    {
      "cell_type": "code",
      "source": [
        "recent_data['Date'] = pd.to_datetime(recent_data['Date'])\n",
        "\n",
        "recent_data['Year'] = recent_data['Date'].dt.year\n",
        "recent_data['Month'] = recent_data['Date'].dt.month"
      ],
      "metadata": {
        "id": "kDIEOVUo2Hh3"
      },
      "execution_count": 15,
      "outputs": []
    },
    {
      "cell_type": "code",
      "source": [
        "monthly_volatility = recent_data.groupby(['Ticker', 'Year', 'Month'])['Daily_Return'].std()\n",
        "\n",
        "max_volatility_idx = monthly_volatility.idxmax()\n",
        "max_volatility_value = monthly_volatility.max()\n",
        "\n",
        "ticker, year, month = max_volatility_idx\n",
        "\n",
        "print(ticker)\n",
        "print(year)\n",
        "print(month)\n",
        "print(max_volatility_value)"
      ],
      "metadata": {
        "colab": {
          "base_uri": "https://localhost:8080/"
        },
        "id": "3EUxpOEC2NXj",
        "outputId": "9874fe8d-4127-40ad-df8d-8ae84623a9d2"
      },
      "execution_count": 16,
      "outputs": [
        {
          "output_type": "stream",
          "name": "stdout",
          "text": [
            "TSLA\n",
            "2016\n",
            "2\n",
            "0.046379164019557564\n"
          ]
        }
      ]
    },
    {
      "cell_type": "markdown",
      "source": [
        "TSLA THE MAX VOLATILE MONTH AS EXPECTED :P"
      ],
      "metadata": {
        "id": "cnkLYoLg2T2f"
      }
    }
  ]
}